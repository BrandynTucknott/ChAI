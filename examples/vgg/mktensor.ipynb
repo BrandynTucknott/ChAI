{
 "cells": [
  {
   "cell_type": "code",
   "execution_count": 1,
   "id": "873dd3b8",
   "metadata": {},
   "outputs": [],
   "source": [
    "import torch"
   ]
  },
  {
   "cell_type": "code",
   "execution_count": 6,
   "id": "a07c23ff",
   "metadata": {},
   "outputs": [],
   "source": [
    "def find_factors(num):\n",
    "    \"\"\"\n",
    "    Finds all factors of a given number.\n",
    "\n",
    "    Args:\n",
    "        num: An integer.\n",
    "\n",
    "    Returns:\n",
    "        A list of integers representing the factors of num.\n",
    "    \"\"\"\n",
    "    factors = []\n",
    "    for i in range(1, num + 1):\n",
    "        if num % i == 0:\n",
    "            factors.append(i)\n",
    "    return factors"
   ]
  },
  {
   "cell_type": "code",
   "execution_count": 19,
   "id": "131adc46",
   "metadata": {},
   "outputs": [
    {
     "name": "stdout",
     "output_type": "stream",
     "text": [
      "f1: 10000, f2: 5\n"
     ]
    }
   ],
   "source": [
    "num_elt = 50000\n",
    "f1 = find_factors(num_elt)[-4]\n",
    "f2 = num_elt // f1\n",
    "print(f\"f1: {f1}, f2: {f2}\")"
   ]
  },
  {
   "cell_type": "code",
   "execution_count": 20,
   "id": "d4aed442",
   "metadata": {},
   "outputs": [],
   "source": [
    "x = torch.arange(0,num_elt)\n",
    "x = x.reshape(f1,f2).to(torch.float32)"
   ]
  },
  {
   "cell_type": "code",
   "execution_count": 21,
   "id": "481d4709",
   "metadata": {},
   "outputs": [],
   "source": [
    "torch.save(x, 'my_tensor.pt')"
   ]
  },
  {
   "cell_type": "code",
   "execution_count": null,
   "id": "1a17ec15",
   "metadata": {},
   "outputs": [],
   "source": []
  }
 ],
 "metadata": {
  "kernelspec": {
   "display_name": ".venv",
   "language": "python",
   "name": "python3"
  },
  "language_info": {
   "codemirror_mode": {
    "name": "ipython",
    "version": 3
   },
   "file_extension": ".py",
   "mimetype": "text/x-python",
   "name": "python",
   "nbconvert_exporter": "python",
   "pygments_lexer": "ipython3",
   "version": "3.12.9"
  }
 },
 "nbformat": 4,
 "nbformat_minor": 5
}
