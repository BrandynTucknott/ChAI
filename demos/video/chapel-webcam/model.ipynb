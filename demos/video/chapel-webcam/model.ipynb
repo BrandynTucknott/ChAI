{
 "cells": [
  {
   "cell_type": "code",
   "execution_count": null,
   "id": "657a8f27",
   "metadata": {},
   "outputs": [],
   "source": [
    "import torch"
   ]
  },
  {
   "cell_type": "code",
   "execution_count": null,
   "id": "95f3b45d",
   "metadata": {},
   "outputs": [],
   "source": [
    "class CustomModel(torch.nn.Module):\n",
    "    def __init__(self):\n",
    "        super(CustomModel, self).__init__()\n",
    "        self.conv1 = torch.nn.Conv2d(3, 16, kernel_size=3, stride=1, padding=1)\n",
    "        self.flatten = torch.nn.Flatten()\n",
    "        self.fc = torch.nn.Linear(16 * 1920 * 1080, 10)\n",
    "\n",
    "    def forward(self, x):\n",
    "        return self.fc(self.flatten(self.conv1(x)))\n",
    "\n",
    "model = CustomModel()\n",
    "model.eval()\n",
    "\n",
    "sm = torch.jit.script(model.to(torch.float32))\n",
    "sm.save(f\"model.pt\")\n"
   ]
  },
  {
   "cell_type": "code",
   "execution_count": null,
   "id": "6927bdb1",
   "metadata": {},
   "outputs": [],
   "source": [
    "x = torch.randn(1, 3, 1920, 1080).to(torch.float32)\n",
    "y = model(x)\n",
    "y.shape"
   ]
  },
  {
   "cell_type": "code",
   "execution_count": null,
   "id": "72df7a4f",
   "metadata": {},
   "outputs": [],
   "source": [
    "x = torch.randn(1, 3, 1080, 1920).to(torch.float32)\n",
    "y = model(x)"
   ]
  },
  {
   "cell_type": "code",
   "execution_count": null,
   "id": "a8cca72a",
   "metadata": {},
   "outputs": [],
   "source": [
    "class Sobel(torch.nn.Module):\n",
    "    def __init__(self):\n",
    "        super(Sobel, self).__init__()\n",
    "        sobel_dx = torch.tensor([[-1, 0, 1],\n",
    "                                [-2, 0, 2],\n",
    "                                [-1, 0, 1]], dtype=torch.float32)\n",
    "\n",
    "        sobel_dy = torch.tensor([[-1, -2, -1],\n",
    "                                [ 0,  0,  0],\n",
    "                                [ 1,  2,  1]], dtype=torch.float32)\n",
    "\n",
    "        kernel_dx = sobel_dx.view(1,1,3,3).repeat(3,1,1,1).contiguous()\n",
    "        kernel_dy = sobel_dy.view(1,1,3,3).repeat(3,1,1,1).contiguous()\n",
    "\n",
    "        self.kernel_dx = torch.nn.Parameter(kernel_dx, requires_grad=False)\n",
    "        self.kernel_dy = torch.nn.Parameter(kernel_dy, requires_grad=False)\n",
    "\n",
    "\n",
    "        # sobel_kernel = torch.stack([sobel_dx, sobel_dy])   # [2,3,3]\n",
    "        # sobel_kernel = sobel_kernel.unsqueeze(1).repeat(1, 3, 1, 1)  # [2,3,3,3]\n",
    "        # sobel_kernel = sobel_kernel.to(torch.float32)\n",
    "\n",
    "        # self.sobel_kernel = torch.nn.Parameter(sobel_kernel, requires_grad=False)\n",
    "        # # self.sobel_cnn = torch.nn.Conv2d(3, 3, kernel_size=3, stride=1, padding=1, bias=False).to(torch.float16)\n",
    "        # # self.sobel_cnn.weight = torch.nn.Parameter(sobel_kernel, requires_grad=False)\n",
    "\n",
    "    def forward(self, x):\n",
    "        # return self.sobel_cnn(x)\n",
    "        grad_x = torch.nn.functional.conv2d(x, self.kernel_dx, padding=1, groups=3)\n",
    "        grad_y = torch.nn.functional.conv2d(x, self.kernel_dy, padding=1, groups=3)\n",
    "\n",
    "        grad_mag = torch.sqrt(grad_x ** 2 + grad_y ** 2)\n",
    "        return grad_mag\n",
    "\n",
    "        # return torch.nn.functional.conv2d(x, self.sobel_kernel, padding=1,stride=1)\n",
    "\n",
    "\n",
    "\n",
    "# sobel = Sobel().to('mps').to(torch.float32)\n",
    "# sm = torch.jit.script(sobel)\n",
    "# sm.save(\"models/sobel_float32.pt\")\n",
    "# sobel = Sobel().to('mps').to(torch.float16)\n",
    "# sm = torch.jit.script(sobel)\n",
    "# sm.save(\"models/sobel_float16.pt\")"
   ]
  },
  {
   "cell_type": "code",
   "execution_count": null,
   "id": "1ce18cda",
   "metadata": {},
   "outputs": [],
   "source": [
    "sobel = Sobel().to(torch.float32)\n",
    "sobel.eval()\n",
    "sm = torch.jit.script(sobel)\n",
    "sm.save(\"sobel.pt\")"
   ]
  },
  {
   "cell_type": "code",
   "execution_count": null,
   "id": "8ec3d21a",
   "metadata": {},
   "outputs": [],
   "source": [
    "from torchvision.io import decode_image\n",
    "from PIL import Image\n",
    "import matplotlib.pyplot as plt\n",
    "def show_image(image):\n",
    "    plt.imshow(image.permute(1, 2, 0).cpu())\n",
    "    plt.axis('off')\n",
    "    plt.show()\n",
    "\n",
    "\n",
    "img = decode_image('coast.jpeg', mode='RGB')\n",
    "img = img.to(torch.float32) / 255.0\n",
    "# plt.imshow(img)\n",
    "# plt.show()\n",
    "print(img.shape)\n",
    "print(img.permute(1, 2, 0).shape)\n",
    "# show_image(img)"
   ]
  },
  {
   "cell_type": "code",
   "execution_count": null,
   "id": "5780a986",
   "metadata": {},
   "outputs": [],
   "source": [
    "sobel_img = sobel(img.unsqueeze(0))\n",
    "print(img.shape)\n",
    "print(sobel_img.shape)\n",
    "show_image(sobel_img.squeeze(0))"
   ]
  },
  {
   "cell_type": "code",
   "execution_count": null,
   "id": "7e2e6286",
   "metadata": {},
   "outputs": [],
   "source": [
    "\n",
    "\n"
   ]
  },
  {
   "cell_type": "code",
   "execution_count": null,
   "id": "f353fa03",
   "metadata": {},
   "outputs": [],
   "source": [
    "def chat_sobel(img):\n",
    "    import torch\n",
    "    import torch.nn.functional as F\n",
    "\n",
    "    # assume img is a FloatTensor of shape [3, H, W], e.g. normalized to [0,1]\n",
    "    # step 0: add batch dim\n",
    "    img = img.unsqueeze(0)   # now [1, 3, H, W]\n",
    "\n",
    "    # 1. define 2D Sobel kernels\n",
    "    sobel_dx = torch.tensor([[-1., 0., 1.],\n",
    "                            [-2., 0., 2.],\n",
    "                            [-1., 0., 1.]], dtype=torch.float32)\n",
    "    sobel_dy = torch.tensor([[-1., -2., -1.],\n",
    "                            [ 0.,  0.,  0.],\n",
    "                            [ 1.,  2.,  1.]], dtype=torch.float32)\n",
    "\n",
    "    # 2. reshape them into conv filters of shape (out_ch, in_ch_per_group, kH, kW)\n",
    "    #    here we want 1 filter per input channel, done 3 times (one group per channel)\n",
    "    kernel_dx = sobel_dx.view(1,1,3,3).repeat(3,1,1,1)  # → (3,1,3,3)\n",
    "    kernel_dy = sobel_dy.view(1,1,3,3).repeat(3,1,1,1)  # → (3,1,3,3)\n",
    "\n",
    "    # 3. apply grouped conv so each channel is convolved separately\n",
    "    grad_x = F.conv2d(img, kernel_dx, padding=1, groups=3)  # [1,3,H,W]\n",
    "    grad_y = F.conv2d(img, kernel_dy, padding=1, groups=3)  # [1,3,H,W]\n",
    "\n",
    "    # 4. compute magnitude per channel\n",
    "    grad_mag = torch.sqrt(grad_x**2 + grad_y**2)            # [1,3,H,W]\n",
    "\n",
    "    # 5. squeeze off the batch dim\n",
    "    out_img = grad_mag.squeeze(0)   # → [3, H, W]\n",
    "\n",
    "    print(out_img.shape)            # torch.Size([3, 1080, 1920])\n",
    "    return out_img\n",
    "\n",
    "img2 = img.clone()\n",
    "out_img = chat_sobel(img2)\n",
    "show_image(out_img)"
   ]
  },
  {
   "cell_type": "code",
   "execution_count": null,
   "id": "ad8bee17",
   "metadata": {},
   "outputs": [],
   "source": []
  }
 ],
 "metadata": {
  "kernelspec": {
   "display_name": ".venv",
   "language": "python",
   "name": "python3"
  },
  "language_info": {
   "codemirror_mode": {
    "name": "ipython",
    "version": 3
   },
   "file_extension": ".py",
   "mimetype": "text/x-python",
   "name": "python",
   "nbconvert_exporter": "python",
   "pygments_lexer": "ipython3",
   "version": "3.12.9"
  }
 },
 "nbformat": 4,
 "nbformat_minor": 5
}
