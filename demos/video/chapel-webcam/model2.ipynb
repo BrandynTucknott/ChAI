{
 "cells": [
  {
   "cell_type": "code",
   "execution_count": null,
   "id": "22e96cc8",
   "metadata": {},
   "outputs": [],
   "source": [
    "import torch\n",
    "from torchvision.io import decode_image,read_image\n",
    "from torchvision import transforms\n",
    "from torchvision.transforms import functional as F\n",
    "from PIL import Image\n",
    "import matplotlib.pyplot as plt\n",
    "def show_image(image):\n",
    "    # plt.imshow(transforms.ToPILImage()(image), interpolation=\"bicubic\")\n",
    "    # # pil_image = transforms.ToPILImage()(image)\n",
    "    # # pil_image.show()\n",
    "    plt.imshow(image.detach().permute(1, 2, 0).cpu())\n",
    "    plt.axis('off')\n",
    "    plt.show()\n",
    "\n",
    "# img = decode_image('coast.jpeg', mode='RGB')\n",
    "# img = img.to(torch.float32) / 255.0\n",
    "\n",
    "pil_img = Image.open('coast.jpeg')\n",
    "img = F.to_tensor(pil_img)\n",
    "print(img.shape)\n",
    "show_image(img)"
   ]
  },
  {
   "cell_type": "code",
   "execution_count": null,
   "id": "335855a9",
   "metadata": {},
   "outputs": [],
   "source": [
    "device = torch.device('mps')\n",
    "stm = torch.jit.load('../style-transfer/models/exports/mps/mosaic_float16.pt', map_location=device)"
   ]
  },
  {
   "cell_type": "code",
   "execution_count": null,
   "id": "9d32c34b",
   "metadata": {},
   "outputs": [],
   "source": [
    "stm.to(device)\n",
    "stm.eval()\n",
    "print(\"Model loaded.\")\n",
    "# help(stm)"
   ]
  },
  {
   "cell_type": "code",
   "execution_count": null,
   "id": "20e724b3",
   "metadata": {},
   "outputs": [],
   "source": [
    "in_img = img.to(device).to(torch.float16).unsqueeze(0).contiguous()\n",
    "in_img.shape\n",
    "x = in_img.squeeze(0).to(torch.float32)\n",
    "print(x.shape)\n",
    "show_image(x)\n"
   ]
  },
  {
   "cell_type": "code",
   "execution_count": null,
   "id": "a6de87a4",
   "metadata": {},
   "outputs": [],
   "source": [
    "output = stm(in_img).detach()\n",
    "print(output.shape,output.dtype,output.device)\n",
    "torch.mps.empty_cache()"
   ]
  },
  {
   "cell_type": "code",
   "execution_count": null,
   "id": "473c1852",
   "metadata": {},
   "outputs": [],
   "source": [
    "out_img = (output.squeeze(0) / 255.0).to(torch.float32)\n",
    "print(out_img.shape)\n",
    "show_image(out_img)"
   ]
  }
 ],
 "metadata": {
  "kernelspec": {
   "display_name": ".venv",
   "language": "python",
   "name": "python3"
  },
  "language_info": {
   "codemirror_mode": {
    "name": "ipython",
    "version": 3
   },
   "file_extension": ".py",
   "mimetype": "text/x-python",
   "name": "python",
   "nbconvert_exporter": "python",
   "pygments_lexer": "ipython3",
   "version": "3.12.9"
  }
 },
 "nbformat": 4,
 "nbformat_minor": 5
}
