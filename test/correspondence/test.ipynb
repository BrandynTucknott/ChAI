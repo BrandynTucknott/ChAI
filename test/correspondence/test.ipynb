{
 "cells": [
  {
   "cell_type": "code",
   "execution_count": 14,
   "metadata": {},
   "outputs": [
    {
     "data": {
      "text/plain": [
       "(PosixPath('/Users/iainmoncrief/Documents/Github/ChAI/test/correspondence'),\n",
       " '/Users/iainmoncrief/Documents/Github/ChAI/test/correspondence')"
      ]
     },
     "execution_count": 14,
     "metadata": {},
     "output_type": "execute_result"
    }
   ],
   "source": [
    "import os\n",
    "\n",
    "from pathlib import Path\n",
    "\n",
    "import os\n",
    "\n",
    "correspondence_dir = Path(os.path.abspath(\"\"))\n",
    "correspondence_dir,str(correspondence_dir)"
   ]
  },
  {
   "cell_type": "code",
   "execution_count": 3,
   "metadata": {},
   "outputs": [
    {
     "data": {
      "text/plain": [
       "PosixPath('activation/relu')"
      ]
     },
     "execution_count": 3,
     "metadata": {},
     "output_type": "execute_result"
    }
   ],
   "source": [
    "p1 = Path('activation/relu')\n",
    "p1"
   ]
  },
  {
   "cell_type": "code",
   "execution_count": 16,
   "metadata": {},
   "outputs": [
    {
     "data": {
      "text/plain": [
       "{'activation': PosixPath('/Users/iainmoncrief/Documents/Github/ChAI/test/correspondence/activation'),\n",
       " 'construction': PosixPath('/Users/iainmoncrief/Documents/Github/ChAI/test/correspondence/construction')}"
      ]
     },
     "execution_count": 16,
     "metadata": {},
     "output_type": "execute_result"
    }
   ],
   "source": [
    "correspondence_test_types = {x.name : x for x in correspondence_dir.iterdir() if x.is_dir()}\n",
    "correspondence_test_types"
   ]
  },
  {
   "cell_type": "code",
   "execution_count": null,
   "metadata": {},
   "outputs": [
    {
     "data": {
      "text/plain": [
       "'/Users/iainmoncrief/Documents/Github/ChAI/test/correspondence'"
      ]
     },
     "execution_count": 10,
     "metadata": {},
     "output_type": "execute_result"
    }
   ],
   "source": []
  },
  {
   "cell_type": "code",
   "execution_count": 17,
   "metadata": {},
   "outputs": [
    {
     "data": {
      "text/plain": [
       "True"
      ]
     },
     "execution_count": 17,
     "metadata": {},
     "output_type": "execute_result"
    }
   ],
   "source": [
    "not None"
   ]
  },
  {
   "cell_type": "code",
   "execution_count": 5,
   "metadata": {},
   "outputs": [
    {
     "data": {
      "text/plain": [
       "[PosixPath('construction')]"
      ]
     },
     "execution_count": 5,
     "metadata": {},
     "output_type": "execute_result"
    }
   ],
   "source": [
    "p = Path('.')\n",
    "[x for x in p.iterdir() if x.is_dir()]"
   ]
  },
  {
   "cell_type": "code",
   "execution_count": 6,
   "metadata": {},
   "outputs": [
    {
     "data": {
      "text/plain": [
       "['construction']"
      ]
     },
     "execution_count": 6,
     "metadata": {},
     "output_type": "execute_result"
    }
   ],
   "source": [
    "p = Path('.')\n",
    "[x.name for x in p.iterdir() if x.is_dir()]"
   ]
  },
  {
   "cell_type": "code",
   "execution_count": 7,
   "metadata": {},
   "outputs": [
    {
     "data": {
      "text/plain": [
       "{'construction': PosixPath('construction')}"
      ]
     },
     "execution_count": 7,
     "metadata": {},
     "output_type": "execute_result"
    }
   ],
   "source": [
    "correspondence_dir = Path('.')\n",
    "{x.name: x for x in correspondence_dir.iterdir() if x.is_dir()}"
   ]
  },
  {
   "cell_type": "code",
   "execution_count": 9,
   "metadata": {},
   "outputs": [
    {
     "name": "stdout",
     "output_type": "stream",
     "text": [
      "Help on PosixPath in module pathlib object:\n",
      "\n",
      "class PosixPath(Path, PurePosixPath)\n",
      " |  PosixPath(*args, **kwargs)\n",
      " |\n",
      " |  Path subclass for non-Windows systems.\n",
      " |\n",
      " |  On a POSIX system, instantiating a Path should return this object.\n",
      " |\n",
      " |  Method resolution order:\n",
      " |      PosixPath\n",
      " |      Path\n",
      " |      PurePosixPath\n",
      " |      PurePath\n",
      " |      builtins.object\n",
      " |\n",
      " |  Methods inherited from Path:\n",
      " |\n",
      " |  __enter__(self)\n",
      " |\n",
      " |  __exit__(self, t, v, tb)\n",
      " |\n",
      " |  __init__(self, *args, **kwargs)\n",
      " |      Initialize self.  See help(type(self)) for accurate signature.\n",
      " |\n",
      " |  absolute(self)\n",
      " |      Return an absolute version of this path by prepending the current\n",
      " |      working directory. No normalization or symlink resolution is performed.\n",
      " |\n",
      " |      Use resolve() to get the canonical path to a file.\n",
      " |\n",
      " |  chmod(self, mode, *, follow_symlinks=True)\n",
      " |      Change the permissions of the path, like os.chmod().\n",
      " |\n",
      " |  exists(self, *, follow_symlinks=True)\n",
      " |      Whether this path exists.\n",
      " |\n",
      " |      This method normally follows symlinks; to check whether a symlink exists,\n",
      " |      add the argument follow_symlinks=False.\n",
      " |\n",
      " |  expanduser(self)\n",
      " |      Return a new path with expanded ~ and ~user constructs\n",
      " |      (as returned by os.path.expanduser)\n",
      " |\n",
      " |  glob(self, pattern, *, case_sensitive=None)\n",
      " |      Iterate over this subtree and yield all existing files (of any\n",
      " |      kind, including directories) matching the given relative pattern.\n",
      " |\n",
      " |  group(self)\n",
      " |      Return the group name of the file gid.\n",
      " |\n",
      " |  hardlink_to(self, target)\n",
      " |      Make this path a hard link pointing to the same file as *target*.\n",
      " |\n",
      " |      Note the order of arguments (self, target) is the reverse of os.link's.\n",
      " |\n",
      " |  is_block_device(self)\n",
      " |      Whether this path is a block device.\n",
      " |\n",
      " |  is_char_device(self)\n",
      " |      Whether this path is a character device.\n",
      " |\n",
      " |  is_dir(self)\n",
      " |      Whether this path is a directory.\n",
      " |\n",
      " |  is_fifo(self)\n",
      " |      Whether this path is a FIFO.\n",
      " |\n",
      " |  is_file(self)\n",
      " |      Whether this path is a regular file (also True for symlinks pointing\n",
      " |      to regular files).\n",
      " |\n",
      " |  is_junction(self)\n",
      " |      Whether this path is a junction.\n",
      " |\n",
      " |  is_mount(self)\n",
      " |      Check if this path is a mount point\n",
      " |\n",
      " |  is_socket(self)\n",
      " |      Whether this path is a socket.\n",
      " |\n",
      " |  is_symlink(self)\n",
      " |      Whether this path is a symbolic link.\n",
      " |\n",
      " |  iterdir(self)\n",
      " |      Yield path objects of the directory contents.\n",
      " |\n",
      " |      The children are yielded in arbitrary order, and the\n",
      " |      special entries '.' and '..' are not included.\n",
      " |\n",
      " |  lchmod(self, mode)\n",
      " |      Like chmod(), except if the path points to a symlink, the symlink's\n",
      " |      permissions are changed, rather than its target's.\n",
      " |\n",
      " |  lstat(self)\n",
      " |      Like stat(), except if the path points to a symlink, the symlink's\n",
      " |      status information is returned, rather than its target's.\n",
      " |\n",
      " |  mkdir(self, mode=511, parents=False, exist_ok=False)\n",
      " |      Create a new directory at this given path.\n",
      " |\n",
      " |  open(self, mode='r', buffering=-1, encoding=None, errors=None, newline=None)\n",
      " |      Open the file pointed to by this path and return a file object, as\n",
      " |      the built-in open() function does.\n",
      " |\n",
      " |  owner(self)\n",
      " |      Return the login name of the file owner.\n",
      " |\n",
      " |  read_bytes(self)\n",
      " |      Open the file in bytes mode, read it, and close the file.\n",
      " |\n",
      " |  read_text(self, encoding=None, errors=None)\n",
      " |      Open the file in text mode, read it, and close the file.\n",
      " |\n",
      " |  readlink(self)\n",
      " |      Return the path to which the symbolic link points.\n",
      " |\n",
      " |  rename(self, target)\n",
      " |      Rename this path to the target path.\n",
      " |\n",
      " |      The target path may be absolute or relative. Relative paths are\n",
      " |      interpreted relative to the current working directory, *not* the\n",
      " |      directory of the Path object.\n",
      " |\n",
      " |      Returns the new Path instance pointing to the target path.\n",
      " |\n",
      " |  replace(self, target)\n",
      " |      Rename this path to the target path, overwriting if that path exists.\n",
      " |\n",
      " |      The target path may be absolute or relative. Relative paths are\n",
      " |      interpreted relative to the current working directory, *not* the\n",
      " |      directory of the Path object.\n",
      " |\n",
      " |      Returns the new Path instance pointing to the target path.\n",
      " |\n",
      " |  resolve(self, strict=False)\n",
      " |      Make the path absolute, resolving all symlinks on the way and also\n",
      " |      normalizing it.\n",
      " |\n",
      " |  rglob(self, pattern, *, case_sensitive=None)\n",
      " |      Recursively yield all existing files (of any kind, including\n",
      " |      directories) matching the given relative pattern, anywhere in\n",
      " |      this subtree.\n",
      " |\n",
      " |  rmdir(self)\n",
      " |      Remove this directory.  The directory must be empty.\n",
      " |\n",
      " |  samefile(self, other_path)\n",
      " |      Return whether other_path is the same or not as this file\n",
      " |      (as returned by os.path.samefile()).\n",
      " |\n",
      " |  stat(self, *, follow_symlinks=True)\n",
      " |      Return the result of the stat() system call on this path, like\n",
      " |      os.stat() does.\n",
      " |\n",
      " |  symlink_to(self, target, target_is_directory=False)\n",
      " |      Make this path a symlink pointing to the target path.\n",
      " |      Note the order of arguments (link, target) is the reverse of os.symlink.\n",
      " |\n",
      " |  touch(self, mode=438, exist_ok=True)\n",
      " |      Create this file with the given access mode, if it doesn't exist.\n",
      " |\n",
      " |  unlink(self, missing_ok=False)\n",
      " |      Remove this file or link.\n",
      " |      If the path is a directory, use rmdir() instead.\n",
      " |\n",
      " |  walk(self, top_down=True, on_error=None, follow_symlinks=False)\n",
      " |      Walk the directory tree from this directory, similar to os.walk().\n",
      " |\n",
      " |  write_bytes(self, data)\n",
      " |      Open the file in bytes mode, write to it, and close the file.\n",
      " |\n",
      " |  write_text(self, data, encoding=None, errors=None, newline=None)\n",
      " |      Open the file in text mode, write to it, and close the file.\n",
      " |\n",
      " |  ----------------------------------------------------------------------\n",
      " |  Class methods inherited from Path:\n",
      " |\n",
      " |  cwd()\n",
      " |      Return a new path pointing to the current working directory.\n",
      " |\n",
      " |  home()\n",
      " |      Return a new path pointing to the user's home directory (as\n",
      " |      returned by os.path.expanduser('~')).\n",
      " |\n",
      " |  ----------------------------------------------------------------------\n",
      " |  Static methods inherited from Path:\n",
      " |\n",
      " |  __new__(cls, *args, **kwargs)\n",
      " |      Construct a PurePath from one or several strings and or existing\n",
      " |      PurePath objects.  The strings and path objects are combined so as\n",
      " |      to yield a canonicalized path, which is incorporated into the\n",
      " |      new PurePath object.\n",
      " |\n",
      " |  ----------------------------------------------------------------------\n",
      " |  Methods inherited from PurePath:\n",
      " |\n",
      " |  __bytes__(self)\n",
      " |      Return the bytes representation of the path.  This is only\n",
      " |      recommended to use under Unix.\n",
      " |\n",
      " |  __eq__(self, other)\n",
      " |      Return self==value.\n",
      " |\n",
      " |  __fspath__(self)\n",
      " |\n",
      " |  __ge__(self, other)\n",
      " |      Return self>=value.\n",
      " |\n",
      " |  __gt__(self, other)\n",
      " |      Return self>value.\n",
      " |\n",
      " |  __hash__(self)\n",
      " |      Return hash(self).\n",
      " |\n",
      " |  __le__(self, other)\n",
      " |      Return self<=value.\n",
      " |\n",
      " |  __lt__(self, other)\n",
      " |      Return self<value.\n",
      " |\n",
      " |  __reduce__(self)\n",
      " |      Helper for pickle.\n",
      " |\n",
      " |  __repr__(self)\n",
      " |      Return repr(self).\n",
      " |\n",
      " |  __rtruediv__(self, key)\n",
      " |\n",
      " |  __str__(self)\n",
      " |      Return the string representation of the path, suitable for\n",
      " |      passing to system calls.\n",
      " |\n",
      " |  __truediv__(self, key)\n",
      " |\n",
      " |  as_posix(self)\n",
      " |      Return the string representation of the path with forward (/)\n",
      " |      slashes.\n",
      " |\n",
      " |  as_uri(self)\n",
      " |      Return the path as a 'file' URI.\n",
      " |\n",
      " |  is_absolute(self)\n",
      " |      True if the path is absolute (has both a root and, if applicable,\n",
      " |      a drive).\n",
      " |\n",
      " |  is_relative_to(self, other, /, *_deprecated)\n",
      " |      Return True if the path is relative to another path or False.\n",
      " |\n",
      " |  is_reserved(self)\n",
      " |      Return True if the path contains one of the special names reserved\n",
      " |      by the system, if any.\n",
      " |\n",
      " |  joinpath(self, *pathsegments)\n",
      " |      Combine this path with one or several arguments, and return a\n",
      " |      new path representing either a subpath (if all arguments are relative\n",
      " |      paths) or a totally different path (if one of the arguments is\n",
      " |      anchored).\n",
      " |\n",
      " |  match(self, path_pattern, *, case_sensitive=None)\n",
      " |      Return True if this path matches the given pattern.\n",
      " |\n",
      " |  relative_to(self, other, /, *_deprecated, walk_up=False)\n",
      " |      Return the relative path to another path identified by the passed\n",
      " |      arguments.  If the operation is not possible (because this is not\n",
      " |      related to the other path), raise ValueError.\n",
      " |\n",
      " |      The *walk_up* parameter controls whether `..` may be used to resolve\n",
      " |      the path.\n",
      " |\n",
      " |  with_name(self, name)\n",
      " |      Return a new path with the file name changed.\n",
      " |\n",
      " |  with_segments(self, *pathsegments)\n",
      " |      Construct a new path object from any number of path-like objects.\n",
      " |      Subclasses may override this method to customize how new path objects\n",
      " |      are created from methods like `iterdir()`.\n",
      " |\n",
      " |  with_stem(self, stem)\n",
      " |      Return a new path with the stem changed.\n",
      " |\n",
      " |  with_suffix(self, suffix)\n",
      " |      Return a new path with the file suffix changed.  If the path\n",
      " |      has no suffix, add given suffix.  If the given suffix is an empty\n",
      " |      string, remove the suffix from the path.\n",
      " |\n",
      " |  ----------------------------------------------------------------------\n",
      " |  Readonly properties inherited from PurePath:\n",
      " |\n",
      " |  anchor\n",
      " |      The concatenation of the drive and root, or ''.\n",
      " |\n",
      " |  drive\n",
      " |      The drive prefix (letter or UNC path), if any.\n",
      " |\n",
      " |  name\n",
      " |      The final path component, if any.\n",
      " |\n",
      " |  parent\n",
      " |      The logical parent of the path.\n",
      " |\n",
      " |  parents\n",
      " |      A sequence of this path's logical parents.\n",
      " |\n",
      " |  parts\n",
      " |      An object providing sequence-like access to the\n",
      " |      components in the filesystem path.\n",
      " |\n",
      " |  root\n",
      " |      The root of the path, if any.\n",
      " |\n",
      " |  stem\n",
      " |      The final path component, minus its last suffix.\n",
      " |\n",
      " |  suffix\n",
      " |      The final component's last suffix, if any.\n",
      " |\n",
      " |      This includes the leading period. For example: '.txt'\n",
      " |\n",
      " |  suffixes\n",
      " |      A list of the final component's suffixes, if any.\n",
      " |\n",
      " |      These include the leading periods. For example: ['.tar', '.gz']\n",
      "\n"
     ]
    }
   ],
   "source": [
    "p = Path('.')\n",
    "p1 = p / 'foo'\n",
    "help(p)"
   ]
  },
  {
   "cell_type": "code",
   "execution_count": null,
   "metadata": {},
   "outputs": [],
   "source": []
  }
 ],
 "metadata": {
  "kernelspec": {
   "display_name": ".venv",
   "language": "python",
   "name": "python3"
  },
  "language_info": {
   "codemirror_mode": {
    "name": "ipython",
    "version": 3
   },
   "file_extension": ".py",
   "mimetype": "text/x-python",
   "name": "python",
   "nbconvert_exporter": "python",
   "pygments_lexer": "ipython3",
   "version": "3.12.8"
  }
 },
 "nbformat": 4,
 "nbformat_minor": 2
}
