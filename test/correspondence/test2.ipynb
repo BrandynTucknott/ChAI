{
 "cells": [
  {
   "cell_type": "code",
   "execution_count": 2,
   "metadata": {},
   "outputs": [],
   "source": [
    "import re\n",
    "from decimal import Decimal\n",
    "import torch\n",
    "import torch.nn.functional as F\n",
    "\n",
    "def parse_serialized_tensor(serialized: str) -> torch.Tensor:\n",
    "    \"\"\"\n",
    "    Parses a serialized tensor string of the form:\n",
    "      (shape=(2, 2), data=[-1.0, 2.5, -3.6, 4.7])\n",
    "    and returns a torch.Tensor instance.\n",
    "\n",
    "    This version tolerates extra whitespace between symbols, e.g.:\n",
    "      ( shape = (2 , 2 ) , data = [ -1.0 , 2.5 , -3.6 , 4.7 ] )\n",
    "    \"\"\"\n",
    "    # Regex patterns that allow for arbitrary spaces around 'shape=', 'data=', etc.\n",
    "    shape_pattern = r\"shape\\s*=\\s*\\(\\s*([^)]*)\\)\"\n",
    "    data_pattern = r\"data\\s*=\\s*\\[\\s*([^]]*)\\]\"\n",
    "    \n",
    "    # Search for 'shape=...' and 'data=...' in the input\n",
    "    shape_match = re.search(shape_pattern, serialized)\n",
    "    data_match = re.search(data_pattern, serialized)\n",
    "    \n",
    "    if not shape_match or not data_match:\n",
    "        raise ValueError(\"Invalid serialized tensor format. Could not find shape or data.\")\n",
    "    \n",
    "    # Extract the substring that represents the shape, e.g. \"2, 2\"\n",
    "    shape_str = shape_match.group(1).strip()\n",
    "    # Split by commas and convert each dimension to int\n",
    "    shape = tuple(\n",
    "        int(dim.strip()) \n",
    "        for dim in shape_str.split(',') \n",
    "        if dim.strip()  # ignore empty pieces if extra commas/spaces\n",
    "    )\n",
    "    \n",
    "    # Extract the substring for the data, e.g. \"-1.0, 2.5, -3.6, 4.7\"\n",
    "    data_str = data_match.group(1).strip()\n",
    "    # Convert each piece into a Decimal, then to float\n",
    "    data_list = [\n",
    "        Decimal(value.strip())\n",
    "        for value in data_str.split(',')\n",
    "        if value.strip()\n",
    "    ]\n",
    "    data_floats = [float(x) for x in data_list]\n",
    "    \n",
    "    # Construct the tensor and reshape accordingly\n",
    "    tensor = torch.tensor(data_floats, dtype=torch.float).reshape(shape)\n",
    "    return tensor\n"
   ]
  },
  {
   "cell_type": "code",
   "execution_count": 3,
   "metadata": {},
   "outputs": [
    {
     "name": "stdout",
     "output_type": "stream",
     "text": [
      "tensor([[-1.0000,  2.5000],\n",
      "        [-3.6000,  4.7000]])\n",
      "torch.Size([2, 2])\n"
     ]
    }
   ],
   "source": [
    "serialized_str = \"(shape = (2 ,2), data = [ -1.0 , 2.5 , -3.6 , 4.7 ])\"\n",
    "t = parse_serialized_tensor(serialized_str)\n",
    "print(t)\n",
    "print(t.shape)  # torch.Size([2, 2])"
   ]
  },
  {
   "cell_type": "code",
   "execution_count": 4,
   "metadata": {},
   "outputs": [
    {
     "name": "stdout",
     "output_type": "stream",
     "text": [
      "tensor([[-0., -0., -0.],\n",
      "        [-0., -0., -0.]])\n"
     ]
    }
   ],
   "source": [
    "a = torch.nn.CELU(alpha=-0.001)(torch.zeros(2,3))\n",
    "print(a)"
   ]
  },
  {
   "cell_type": "code",
   "execution_count": 5,
   "metadata": {},
   "outputs": [
    {
     "data": {
      "text/plain": [
       "tensor([[[-60., -60., -60., -60.],\n",
       "         [-60., -60., -60., -60.],\n",
       "         [-60., -60., -60., -60.]],\n",
       "\n",
       "        [[-60., -60., -60., -60.],\n",
       "         [-60., -60., -60., -60.],\n",
       "         [-60., -60., -60., -60.]]])"
      ]
     },
     "execution_count": 5,
     "metadata": {},
     "output_type": "execute_result"
    }
   ],
   "source": [
    "x = torch.zeros(2,3,4) - 60.0\n",
    "x"
   ]
  },
  {
   "cell_type": "code",
   "execution_count": 6,
   "metadata": {},
   "outputs": [
    {
     "data": {
      "text/plain": [
       "tensor([[[290., 290., 290., 290.],\n",
       "         [290., 290., 290., 290.],\n",
       "         [290., 290., 290., 290.]],\n",
       "\n",
       "        [[290., 290., 290., 290.],\n",
       "         [290., 290., 290., 290.],\n",
       "         [290., 290., 290., 290.]]])"
      ]
     },
     "execution_count": 6,
     "metadata": {},
     "output_type": "execute_result"
    }
   ],
   "source": [
    "F.rrelu(x,lower=-10.0,upper=1/3)"
   ]
  },
  {
   "cell_type": "code",
   "execution_count": 7,
   "metadata": {},
   "outputs": [
    {
     "data": {
      "text/plain": [
       "RReLU(lower=-10.0, upper=0.3333333333333333)"
      ]
     },
     "execution_count": 7,
     "metadata": {},
     "output_type": "execute_result"
    }
   ],
   "source": [
    "rrelu = torch.nn.RReLU(lower=-10.0)\n",
    "rrelu.train(mode=False)"
   ]
  },
  {
   "cell_type": "code",
   "execution_count": 8,
   "metadata": {},
   "outputs": [
    {
     "data": {
      "text/plain": [
       "tensor([[[290., 290., 290., 290.],\n",
       "         [290., 290., 290., 290.],\n",
       "         [290., 290., 290., 290.]],\n",
       "\n",
       "        [[290., 290., 290., 290.],\n",
       "         [290., 290., 290., 290.],\n",
       "         [290., 290., 290., 290.]]])"
      ]
     },
     "execution_count": 8,
     "metadata": {},
     "output_type": "execute_result"
    }
   ],
   "source": [
    "rrelu(x)"
   ]
  },
  {
   "cell_type": "code",
   "execution_count": 15,
   "metadata": {},
   "outputs": [
    {
     "data": {
      "text/plain": [
       "tensor([[0., 1., 2.],\n",
       "        [3., 4., 5.]])"
      ]
     },
     "execution_count": 15,
     "metadata": {},
     "output_type": "execute_result"
    }
   ],
   "source": [
    "a = torch.arange(6,dtype=torch.float32).reshape(2,3)\n",
    "a"
   ]
  },
  {
   "cell_type": "code",
   "execution_count": 16,
   "metadata": {},
   "outputs": [
    {
     "data": {
      "text/plain": [
       "tensor([3., 5., 7.])"
      ]
     },
     "execution_count": 16,
     "metadata": {},
     "output_type": "execute_result"
    }
   ],
   "source": [
    "a.sum(0)"
   ]
  },
  {
   "cell_type": "code",
   "execution_count": 17,
   "metadata": {},
   "outputs": [
    {
     "data": {
      "text/plain": [
       "tensor([ 3., 12.])"
      ]
     },
     "execution_count": 17,
     "metadata": {},
     "output_type": "execute_result"
    }
   ],
   "source": [
    "a.sum(1)"
   ]
  },
  {
   "cell_type": "code",
   "execution_count": 18,
   "metadata": {},
   "outputs": [
    {
     "data": {
      "text/plain": [
       "tensor([1.5000, 2.5000, 3.5000])"
      ]
     },
     "execution_count": 18,
     "metadata": {},
     "output_type": "execute_result"
    }
   ],
   "source": [
    "torch.mean(a,0)"
   ]
  },
  {
   "cell_type": "code",
   "execution_count": 19,
   "metadata": {},
   "outputs": [
    {
     "data": {
      "text/plain": [
       "tensor([1., 4.])"
      ]
     },
     "execution_count": 19,
     "metadata": {},
     "output_type": "execute_result"
    }
   ],
   "source": [
    "torch.mean(a,1)"
   ]
  },
  {
   "cell_type": "code",
   "execution_count": null,
   "metadata": {},
   "outputs": [],
   "source": []
  }
 ],
 "metadata": {
  "kernelspec": {
   "display_name": ".venv",
   "language": "python",
   "name": "python3"
  },
  "language_info": {
   "codemirror_mode": {
    "name": "ipython",
    "version": 3
   },
   "file_extension": ".py",
   "mimetype": "text/x-python",
   "name": "python",
   "nbconvert_exporter": "python",
   "pygments_lexer": "ipython3",
   "version": "3.12.8"
  }
 },
 "nbformat": 4,
 "nbformat_minor": 2
}
