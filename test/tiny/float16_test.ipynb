{
 "cells": [
  {
   "cell_type": "code",
   "execution_count": 2,
   "metadata": {},
   "outputs": [],
   "source": [
    "import os\n",
    "import sys\n",
    "from pathlib import Path\n",
    "\n",
    "import torch\n",
    "import numpy as np\n",
    "\n",
    "working_dir = Path(os.path.abspath(''))\n",
    "chai_dir = (working_dir / '..' / '..').resolve()\n",
    "chai_lib = chai_dir / 'lib'\n",
    "\n",
    "sys.path.append(str(chai_lib))\n",
    "\n",
    "import chai\n",
    "\n",
    "\n"
   ]
  },
  {
   "cell_type": "code",
   "execution_count": 8,
   "metadata": {},
   "outputs": [
    {
     "data": {
      "text/plain": [
       "tensor([[0, 1, 2],\n",
       "        [3, 4, 5]])"
      ]
     },
     "execution_count": 8,
     "metadata": {},
     "output_type": "execute_result"
    }
   ],
   "source": [
    "\n",
    "a = torch.arange(6).reshape(2,3)\n",
    "a\n"
   ]
  },
  {
   "cell_type": "code",
   "execution_count": 9,
   "metadata": {},
   "outputs": [
    {
     "name": "stdout",
     "output_type": "stream",
     "text": [
      "Writing json.\n",
      "Writing meta.\n",
      "Writing bytes.\n",
      "Writing numpy.\n",
      "Writing json.\n",
      "Writing meta.\n",
      "Writing bytes.\n",
      "Writing numpy.\n",
      "Writing json.\n",
      "Writing meta.\n",
      "Writing bytes.\n",
      "Writing numpy.\n"
     ]
    }
   ],
   "source": [
    "a.to(torch.float16).chai_save(working_dir, 'f16')\n",
    "a.to(torch.float32).chai_save(working_dir, 'f32')\n",
    "a.to(torch.float64).chai_save(working_dir, 'f64')"
   ]
  },
  {
   "cell_type": "code",
   "execution_count": 10,
   "metadata": {},
   "outputs": [
    {
     "data": {
      "text/plain": [
       "tensor([[False, False, False],\n",
       "        [False, False, False]])"
      ]
     },
     "execution_count": 10,
     "metadata": {},
     "output_type": "execute_result"
    }
   ],
   "source": [
    "a.isnan().bitwise_and(a.isnan())"
   ]
  },
  {
   "cell_type": "code",
   "execution_count": null,
   "metadata": {},
   "outputs": [],
   "source": []
  }
 ],
 "metadata": {
  "kernelspec": {
   "display_name": ".venv",
   "language": "python",
   "name": "python3"
  },
  "language_info": {
   "codemirror_mode": {
    "name": "ipython",
    "version": 3
   },
   "file_extension": ".py",
   "mimetype": "text/x-python",
   "name": "python",
   "nbconvert_exporter": "python",
   "pygments_lexer": "ipython3",
   "version": "3.12.9"
  }
 },
 "nbformat": 4,
 "nbformat_minor": 2
}
