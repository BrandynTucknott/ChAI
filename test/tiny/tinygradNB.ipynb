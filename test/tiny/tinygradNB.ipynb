{
 "cells": [
  {
   "cell_type": "code",
   "execution_count": 1,
   "metadata": {},
   "outputs": [],
   "source": [
    "from tinygrad import Tensor, nn\n"
   ]
  },
  {
   "cell_type": "code",
   "execution_count": 4,
   "metadata": {},
   "outputs": [
    {
     "name": "stdout",
     "output_type": "stream",
     "text": [
      "[1 2 3 4]\n",
      "[[1 2 3 4]]\n"
     ]
    }
   ],
   "source": [
    "t = Tensor([1, 2, 3, 4])\n",
    "print(t.numpy())\n",
    "print(t.unsqueeze(0).numpy())"
   ]
  },
  {
   "cell_type": "code",
   "execution_count": 5,
   "metadata": {},
   "outputs": [
    {
     "name": "stdout",
     "output_type": "stream",
     "text": [
      "[[1]\n",
      " [2]\n",
      " [3]\n",
      " [4]]\n"
     ]
    }
   ],
   "source": [
    "print(t.unsqueeze(1).numpy())\n"
   ]
  },
  {
   "cell_type": "code",
   "execution_count": 6,
   "metadata": {},
   "outputs": [
    {
     "name": "stdout",
     "output_type": "stream",
     "text": [
      "[[[1 2 3 4]]]\n"
     ]
    }
   ],
   "source": [
    "print(t.unsqueeze(0).unsqueeze(1).numpy())"
   ]
  },
  {
   "cell_type": "code",
   "execution_count": 7,
   "metadata": {},
   "outputs": [
    {
     "name": "stdout",
     "output_type": "stream",
     "text": [
      "(1, 1, 4)\n"
     ]
    }
   ],
   "source": [
    "print(t.unsqueeze(0).unsqueeze(1).numpy().shape)"
   ]
  },
  {
   "cell_type": "code",
   "execution_count": 8,
   "metadata": {},
   "outputs": [
    {
     "ename": "TypeError",
     "evalue": "Tensor.unsqueeze() takes 2 positional arguments but 3 were given",
     "output_type": "error",
     "traceback": [
      "\u001b[0;31m---------------------------------------------------------------------------\u001b[0m",
      "\u001b[0;31mTypeError\u001b[0m                                 Traceback (most recent call last)",
      "Cell \u001b[0;32mIn[8], line 1\u001b[0m\n\u001b[0;32m----> 1\u001b[0m \u001b[38;5;28mprint\u001b[39m(\u001b[43mt\u001b[49m\u001b[38;5;241;43m.\u001b[39;49m\u001b[43munsqueeze\u001b[49m\u001b[43m(\u001b[49m\u001b[38;5;241;43m0\u001b[39;49m\u001b[43m,\u001b[49m\u001b[38;5;241;43m1\u001b[39;49m\u001b[43m)\u001b[49m\u001b[38;5;241m.\u001b[39mnumpy()\u001b[38;5;241m.\u001b[39mshape)\n",
      "File \u001b[0;32m~/.venv/lib/python3.12/site-packages/tinygrad/tensor.py:4006\u001b[0m, in \u001b[0;36m_metadata_wrapper.<locals>._wrapper\u001b[0;34m(*args, **kwargs)\u001b[0m\n\u001b[1;32m   4003\u001b[0m \u001b[38;5;28;01melse\u001b[39;00m: caller \u001b[38;5;241m=\u001b[39m \u001b[38;5;124m\"\u001b[39m\u001b[38;5;124m\"\u001b[39m\n\u001b[1;32m   4005\u001b[0m token \u001b[38;5;241m=\u001b[39m _METADATA\u001b[38;5;241m.\u001b[39mset(Metadata(name\u001b[38;5;241m=\u001b[39mfn\u001b[38;5;241m.\u001b[39m\u001b[38;5;18m__name__\u001b[39m, caller\u001b[38;5;241m=\u001b[39mcaller))\n\u001b[0;32m-> 4006\u001b[0m ret \u001b[38;5;241m=\u001b[39m \u001b[43mfn\u001b[49m\u001b[43m(\u001b[49m\u001b[38;5;241;43m*\u001b[39;49m\u001b[43margs\u001b[49m\u001b[43m,\u001b[49m\u001b[43m \u001b[49m\u001b[38;5;241;43m*\u001b[39;49m\u001b[38;5;241;43m*\u001b[39;49m\u001b[43mkwargs\u001b[49m\u001b[43m)\u001b[49m\n\u001b[1;32m   4007\u001b[0m _METADATA\u001b[38;5;241m.\u001b[39mreset(token)\n\u001b[1;32m   4008\u001b[0m \u001b[38;5;28;01mreturn\u001b[39;00m ret\n",
      "\u001b[0;31mTypeError\u001b[0m: Tensor.unsqueeze() takes 2 positional arguments but 3 were given"
     ]
    }
   ],
   "source": [
    "print(t.unsqueeze(0,1).numpy().shape)"
   ]
  },
  {
   "cell_type": "code",
   "execution_count": 17,
   "metadata": {},
   "outputs": [
    {
     "name": "stdout",
     "output_type": "stream",
     "text": [
      "(4, 1)\n"
     ]
    }
   ],
   "source": [
    "print(t.unsqueeze(1).unsqueeze(1).squeeze(1).numpy().shape)"
   ]
  },
  {
   "cell_type": "code",
   "execution_count": 22,
   "metadata": {},
   "outputs": [
    {
     "name": "stdout",
     "output_type": "stream",
     "text": [
      "[[0 1 2]\n",
      " [3 4 5]]\n"
     ]
    }
   ],
   "source": [
    "a = Tensor.arange(6).reshape(2,3)\n",
    "print(a.numpy())"
   ]
  },
  {
   "cell_type": "code",
   "execution_count": 23,
   "metadata": {},
   "outputs": [
    {
     "name": "stdout",
     "output_type": "stream",
     "text": [
      "[[0 1]\n",
      " [2 3]\n",
      " [4 5]]\n"
     ]
    }
   ],
   "source": [
    "b = a.reshape(3,2)\n",
    "print(b.numpy())"
   ]
  },
  {
   "cell_type": "code",
   "execution_count": 30,
   "metadata": {},
   "outputs": [
    {
     "name": "stdout",
     "output_type": "stream",
     "text": [
      "((2, 3, 4), (3, 4), 12)\n",
      "((3, 4), (4,), 4)\n",
      "((3, 4), (4,), 4)\n",
      "tensor([\n",
      "[\n",
      "  [0 1 2 3],\n",
      "  [4 5 6 7],\n",
      "  [8 9 10 11]\n",
      "  ],\n",
      "[\n",
      "  [12 13 14 15],\n",
      "  [16 17 18 19],\n",
      "  [20 21 22 23]\n",
      "  ]\n",
      "], shape=(2, 3, 4))\n"
     ]
    }
   ],
   "source": [
    "import math\n",
    "\n",
    "def pretty_str(data, shape, indent=0):\n",
    "    \"\"\"\n",
    "    Recursively build a string representation of 'data' given 'shape'.\n",
    "    'data' is a 1D list (or similar) storing the tensor's elements.\n",
    "    'shape' is a tuple/list indicating the dimensions of the tensor.\n",
    "    'indent' is used internally to control indentation for deeper dimensions.\n",
    "    \"\"\"\n",
    "    # Base case: 1D, just print elements in brackets.\n",
    "    if len(shape) == 1:\n",
    "        # Extract exactly 'shape[0]' items from 'data' for this slice\n",
    "        row_data = data[:shape[0]]\n",
    "        # Format the row with a space (or comma) separator\n",
    "        return \"[\" + \" \".join(str(x) for x in row_data) + \"]\"\n",
    "    \n",
    "    # Recursive case: N > 1\n",
    "    # We'll slice out 'subslice_size' elements for each index in the first dimension.\n",
    "    subslice_size = math.prod(shape[1:])  # Number of elements in each sub-tensor\n",
    "    print((shape,shape[1:],subslice_size))\n",
    "    lines = []\n",
    "    for i in range(shape[0]):\n",
    "        # For dimension i, extract the corresponding chunk from data\n",
    "        start = i * subslice_size\n",
    "        end = (i + 1) * subslice_size\n",
    "        sub_data = data[start:end]\n",
    "        \n",
    "        # Recursively build the string for this sub-tensor\n",
    "        sub_str = pretty_str(sub_data, shape[1:], indent + 1)\n",
    "        lines.append(sub_str)\n",
    "    \n",
    "    # Join the sub-tensors with newlines (and some indentation if desired)\n",
    "    # You could also choose to put them on one line, etc.\n",
    "    indent_str = \"  \" * indent\n",
    "    inner = (\",\\n\" + indent_str).join(lines)\n",
    "    return \"[\" + \"\\n\" + indent_str + inner + \"\\n\" + indent_str + \"]\"\n",
    "# Suppose you have data in a linear list:\n",
    "data = list(range(2*3*4))  # e.g., [0,1,2,3,4,5, ... 23]\n",
    "shape = (2, 3, 4)         # a 2x3x4 tensor\n",
    "\n",
    "s = pretty_str(data, shape)\n",
    "print(\"tensor(\" + s + f\", shape={shape})\")"
   ]
  },
  {
   "cell_type": "code",
   "execution_count": null,
   "metadata": {},
   "outputs": [
    {
     "name": "stdout",
     "output_type": "stream",
     "text": [
      "tensor([\n",
      "[\n",
      "  [0 1 2 3],\n",
      "  [4 5 6 7],\n",
      "  [8 9 10 11]\n",
      "  ],\n",
      "[\n",
      "  [12 13 14 15],\n",
      "  [16 17 18 19],\n",
      "  [20 21 22 23]\n",
      "  ]\n",
      "], shape=(2, 3, 4))\n"
     ]
    }
   ],
   "source": [
    "\n"
   ]
  },
  {
   "cell_type": "code",
   "execution_count": 26,
   "metadata": {},
   "outputs": [
    {
     "name": "stdout",
     "output_type": "stream",
     "text": [
      "tensor([[[1, 2, 3],\n",
      " [4, 5, 6]],\n",
      " [[7, 8, 9],\n",
      " [10, 11, 12]]])\n"
     ]
    }
   ],
   "source": [
    "import math\n",
    "import functools\n",
    "\n",
    "def _print_recursive(data, shape, dim=0, index=0):\n",
    "    \"\"\"\n",
    "    Recursively construct a string representation of the data with given shape.\n",
    "\n",
    "    data: 1D list containing the actual values\n",
    "    shape: tuple or list of dimensions (e.g. (2,3,4))\n",
    "    dim: current dimension we are printing\n",
    "    index: current index in 'data' where this sub-tensor begins\n",
    "    \"\"\"\n",
    "    # Base case: if we are at the last dimension, just print the elements\n",
    "    if dim == len(shape) - 1:\n",
    "        size = shape[dim]\n",
    "        row = data[index : index + size]\n",
    "        return \"[\" + \", \".join(str(x) for x in row) + \"]\"\n",
    "    \n",
    "    # Otherwise, we need to recurse for each “slice” along the current dim\n",
    "    size = shape[dim]\n",
    "    sub_strs = []\n",
    "    sub_shape_size = functools.reduce(lambda a, b: a*b, shape[dim+1:], 1)\n",
    "\n",
    "    # For each slice along the current dimension, descend one level\n",
    "    for i in range(size):\n",
    "        sub_index = index + i * sub_shape_size\n",
    "        sub_strs.append(_print_recursive(data, shape, dim+1, sub_index))\n",
    "\n",
    "    # Join the sub-slices with commas + possible newlines\n",
    "    # Add extra newlines or spaces if you want a more “pretty” multiline format\n",
    "    inside = \",\\n \".join(sub_strs)\n",
    "    return \"[\" + inside + \"]\"\n",
    "\n",
    "\n",
    "class MyTensor:\n",
    "    def __init__(self, data, shape):\n",
    "        \"\"\"\n",
    "        data: a 1D list or array storing values in row-major order\n",
    "        shape: tuple or list describing the dimensions (e.g., (2, 3, 4))\n",
    "        \"\"\"\n",
    "        self.data = data\n",
    "        self.shape = shape\n",
    "    \n",
    "    def __repr__(self):\n",
    "        # Build a string that looks like PyTorch: \"tensor([...])\"\n",
    "        # Or for numpy style, you could do \"array([...])\"\n",
    "        return \"tensor(\" + _print_recursive(self.data, self.shape) + \")\"\n",
    "\n",
    "# Suppose shape is (2, 2, 3), so we have 12 elements in data\n",
    "data = list(range(1, 13))  # [1, 2, 3, ..., 12]\n",
    "shape = (2, 2, 3)\n",
    "t = MyTensor(data, shape)\n",
    "print(t)\n"
   ]
  },
  {
   "cell_type": "code",
   "execution_count": null,
   "metadata": {},
   "outputs": [],
   "source": []
  }
 ],
 "metadata": {
  "kernelspec": {
   "display_name": ".venv",
   "language": "python",
   "name": "python3"
  },
  "language_info": {
   "codemirror_mode": {
    "name": "ipython",
    "version": 3
   },
   "file_extension": ".py",
   "mimetype": "text/x-python",
   "name": "python",
   "nbconvert_exporter": "python",
   "pygments_lexer": "ipython3",
   "version": "3.12.9"
  }
 },
 "nbformat": 4,
 "nbformat_minor": 2
}
